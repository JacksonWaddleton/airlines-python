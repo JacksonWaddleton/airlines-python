{
 "cells": [
  {
   "cell_type": "markdown",
   "id": "dee3a0b9",
   "metadata": {},
   "source": [
    "# Airline Data Analysis\n",
    "\n",
    "In this analysis, I will analyze a mock airline dataset from Kaggle (link: https://www.kaggle.com/datasets/iamsouravbanerjee/airline-dataset). \n",
    "\n",
    "Using pandas and matplotlib, I will clean the data, answer preliminary exploratory questions, and plot simple visualizations to help us understand the data."
   ]
  },
  {
   "cell_type": "markdown",
   "id": "21518652",
   "metadata": {},
   "source": [
    "## Installing Packages and Reading In Data"
   ]
  },
  {
   "cell_type": "markdown",
   "id": "e89f0b5d",
   "metadata": {},
   "source": [
    "First, import pandas and matplotlib."
   ]
  },
  {
   "cell_type": "code",
   "execution_count": null,
   "id": "6ccbe3f8",
   "metadata": {},
   "outputs": [],
   "source": [
    "import pandas as pd\n",
    "import matplotlib.pyplot as plt"
   ]
  },
  {
   "cell_type": "markdown",
   "id": "5e7549c8",
   "metadata": {},
   "source": [
    "Then, read the data into a pandas dataframe and take a quick look."
   ]
  },
  {
   "cell_type": "code",
   "execution_count": 2,
   "id": "a54382de",
   "metadata": {},
   "outputs": [],
   "source": [
    "data = pd.read_csv('Airline Dataset.csv')"
   ]
  },
  {
   "cell_type": "code",
   "execution_count": 3,
   "id": "828b89ba",
   "metadata": {
    "scrolled": true
   },
   "outputs": [
    {
     "data": {
      "text/html": [
       "<div>\n",
       "<style scoped>\n",
       "    .dataframe tbody tr th:only-of-type {\n",
       "        vertical-align: middle;\n",
       "    }\n",
       "\n",
       "    .dataframe tbody tr th {\n",
       "        vertical-align: top;\n",
       "    }\n",
       "\n",
       "    .dataframe thead th {\n",
       "        text-align: right;\n",
       "    }\n",
       "</style>\n",
       "<table border=\"1\" class=\"dataframe\">\n",
       "  <thead>\n",
       "    <tr style=\"text-align: right;\">\n",
       "      <th></th>\n",
       "      <th>Passenger ID</th>\n",
       "      <th>First Name</th>\n",
       "      <th>Last Name</th>\n",
       "      <th>Gender</th>\n",
       "      <th>Age</th>\n",
       "      <th>Nationality</th>\n",
       "      <th>Airport Name</th>\n",
       "      <th>Airport Country Code</th>\n",
       "      <th>Country Name</th>\n",
       "      <th>Airport Continent</th>\n",
       "      <th>Continents</th>\n",
       "      <th>Departure Date</th>\n",
       "      <th>Arrival Airport</th>\n",
       "      <th>Pilot Name</th>\n",
       "      <th>Flight Status</th>\n",
       "    </tr>\n",
       "  </thead>\n",
       "  <tbody>\n",
       "    <tr>\n",
       "      <th>0</th>\n",
       "      <td>10856</td>\n",
       "      <td>Edithe</td>\n",
       "      <td>Leggis</td>\n",
       "      <td>Female</td>\n",
       "      <td>62</td>\n",
       "      <td>Japan</td>\n",
       "      <td>Coldfoot Airport</td>\n",
       "      <td>US</td>\n",
       "      <td>United States</td>\n",
       "      <td>NAM</td>\n",
       "      <td>North America</td>\n",
       "      <td>6/28/2022</td>\n",
       "      <td>CXF</td>\n",
       "      <td>Edithe Leggis</td>\n",
       "      <td>On Time</td>\n",
       "    </tr>\n",
       "    <tr>\n",
       "      <th>1</th>\n",
       "      <td>43872</td>\n",
       "      <td>Elwood</td>\n",
       "      <td>Catt</td>\n",
       "      <td>Male</td>\n",
       "      <td>62</td>\n",
       "      <td>Nicaragua</td>\n",
       "      <td>Kugluktuk Airport</td>\n",
       "      <td>CA</td>\n",
       "      <td>Canada</td>\n",
       "      <td>NAM</td>\n",
       "      <td>North America</td>\n",
       "      <td>12/26/2022</td>\n",
       "      <td>YCO</td>\n",
       "      <td>Elwood Catt</td>\n",
       "      <td>On Time</td>\n",
       "    </tr>\n",
       "    <tr>\n",
       "      <th>2</th>\n",
       "      <td>42633</td>\n",
       "      <td>Darby</td>\n",
       "      <td>Felgate</td>\n",
       "      <td>Male</td>\n",
       "      <td>67</td>\n",
       "      <td>Russia</td>\n",
       "      <td>Grenoble-Isère Airport</td>\n",
       "      <td>FR</td>\n",
       "      <td>France</td>\n",
       "      <td>EU</td>\n",
       "      <td>Europe</td>\n",
       "      <td>1/18/2022</td>\n",
       "      <td>GNB</td>\n",
       "      <td>Darby Felgate</td>\n",
       "      <td>On Time</td>\n",
       "    </tr>\n",
       "    <tr>\n",
       "      <th>3</th>\n",
       "      <td>78493</td>\n",
       "      <td>Dominica</td>\n",
       "      <td>Pyle</td>\n",
       "      <td>Female</td>\n",
       "      <td>71</td>\n",
       "      <td>China</td>\n",
       "      <td>Ottawa / Gatineau Airport</td>\n",
       "      <td>CA</td>\n",
       "      <td>Canada</td>\n",
       "      <td>NAM</td>\n",
       "      <td>North America</td>\n",
       "      <td>9/16/2022</td>\n",
       "      <td>YND</td>\n",
       "      <td>Dominica Pyle</td>\n",
       "      <td>Delayed</td>\n",
       "    </tr>\n",
       "    <tr>\n",
       "      <th>4</th>\n",
       "      <td>82072</td>\n",
       "      <td>Bay</td>\n",
       "      <td>Pencost</td>\n",
       "      <td>Male</td>\n",
       "      <td>21</td>\n",
       "      <td>China</td>\n",
       "      <td>Gillespie Field</td>\n",
       "      <td>US</td>\n",
       "      <td>United States</td>\n",
       "      <td>NAM</td>\n",
       "      <td>North America</td>\n",
       "      <td>2/25/2022</td>\n",
       "      <td>SEE</td>\n",
       "      <td>Bay Pencost</td>\n",
       "      <td>On Time</td>\n",
       "    </tr>\n",
       "  </tbody>\n",
       "</table>\n",
       "</div>"
      ],
      "text/plain": [
       "   Passenger ID First Name Last Name  Gender  Age Nationality  \\\n",
       "0         10856     Edithe    Leggis  Female   62       Japan   \n",
       "1         43872     Elwood      Catt    Male   62   Nicaragua   \n",
       "2         42633      Darby   Felgate    Male   67      Russia   \n",
       "3         78493   Dominica      Pyle  Female   71       China   \n",
       "4         82072        Bay   Pencost    Male   21       China   \n",
       "\n",
       "                Airport Name Airport Country Code   Country Name  \\\n",
       "0           Coldfoot Airport                   US  United States   \n",
       "1          Kugluktuk Airport                   CA         Canada   \n",
       "2     Grenoble-Isère Airport                   FR         France   \n",
       "3  Ottawa / Gatineau Airport                   CA         Canada   \n",
       "4            Gillespie Field                   US  United States   \n",
       "\n",
       "  Airport Continent     Continents Departure Date Arrival Airport  \\\n",
       "0               NAM  North America      6/28/2022             CXF   \n",
       "1               NAM  North America     12/26/2022             YCO   \n",
       "2                EU         Europe      1/18/2022             GNB   \n",
       "3               NAM  North America      9/16/2022             YND   \n",
       "4               NAM  North America      2/25/2022             SEE   \n",
       "\n",
       "      Pilot Name Flight Status  \n",
       "0  Edithe Leggis       On Time  \n",
       "1    Elwood Catt       On Time  \n",
       "2  Darby Felgate       On Time  \n",
       "3  Dominica Pyle       Delayed  \n",
       "4    Bay Pencost       On Time  "
      ]
     },
     "execution_count": 3,
     "metadata": {},
     "output_type": "execute_result"
    }
   ],
   "source": [
    "data.head()"
   ]
  },
  {
   "cell_type": "markdown",
   "id": "77ad134d",
   "metadata": {},
   "source": [
    "## Research Questions"
   ]
  },
  {
   "cell_type": "markdown",
   "id": "21a50519",
   "metadata": {},
   "source": [
    "### Passenger Analysis\n",
    "- How many unique passengers are there in the dataset? \n",
    "- What is the gender distribution of passengers? \n",
    "- What is the average age of passengers? \n",
    "- What is the most popular nationality in the dataset? \n",
    "- What is the age distribution of passengers by gender? \n",
    "\n",
    "### Relationships and Correlations\n",
    "- Is there a relationship between date and flight status? \n",
    "- Which nationalities tend to have the oldest passengers? "
   ]
  },
  {
   "cell_type": "markdown",
   "id": "3af9aa33",
   "metadata": {},
   "source": [
    "## Data Cleaning and Preparation"
   ]
  },
  {
   "cell_type": "markdown",
   "id": "4ef3ead1",
   "metadata": {},
   "source": [
    "### Renaming columns (helps with formatting / uniformity)"
   ]
  },
  {
   "cell_type": "code",
   "execution_count": 33,
   "id": "6541c9f2",
   "metadata": {},
   "outputs": [],
   "source": [
    "data = data.rename(columns={'Passenger ID':'passenger_id', 'First Name':'fname', 'Last Name' : 'lname', 'Gender':'gender', \n",
    "                    'Age':'age', 'Nationality':'nationality', 'Airport Name':'airport_name', \n",
    "                     'Airport Country Code':'airport_countrycode', 'Country Name': 'airport_countryname',\n",
    "                    'Airport Continent':'airport_continentcode', 'Continents':'airport_continent', \n",
    "                     'Departure Date':'departure_date', 'Arrival Airport':'arrival_airport', 'Pilot Name':'pilot',\n",
    "                    'Flight Status':'flight_status'})"
   ]
  },
  {
   "cell_type": "markdown",
   "id": "e7d0a731",
   "metadata": {},
   "source": [
    "### Changing departure_date to data type datetime; creating new columns for month and day of week for departure date. "
   ]
  },
  {
   "cell_type": "code",
   "execution_count": 50,
   "id": "4325aa9c",
   "metadata": {},
   "outputs": [],
   "source": [
    "data['departure_date'] = pd.to_datetime(data['departure_date'])\n",
    "data['month'] = data['departure_date'].dt.month\n",
    "data['day_of_week'] = data['departure_date'].dt.dayofweek"
   ]
  },
  {
   "cell_type": "markdown",
   "id": "5e7c63e9",
   "metadata": {},
   "source": [
    "### Create a list of names of days of the week, then map the values in 'day of week' to this list.\n",
    "\n",
    "This step replaces the numerical values for day of the week with the appropriate string values."
   ]
  },
  {
   "cell_type": "code",
   "execution_count": 51,
   "id": "6d19a790",
   "metadata": {},
   "outputs": [],
   "source": [
    "day_names = ['Monday', 'Tuesday', 'Wednesday', 'Thursday', 'Friday', 'Saturday', 'Sunday']\n",
    "data['day_of_week'] = data['day_of_week'].map(lambda x: day_names[x])"
   ]
  },
  {
   "cell_type": "markdown",
   "id": "df45678c",
   "metadata": {},
   "source": [
    "## Question 1: How many unique passengers are there in the dataset?"
   ]
  },
  {
   "cell_type": "code",
   "execution_count": 38,
   "id": "c7b820ef",
   "metadata": {},
   "outputs": [],
   "source": [
    "#Count the number of unique passengers using the nunique() method. \n",
    "passengers_unique = data['passenger_id'].nunique()"
   ]
  },
  {
   "cell_type": "code",
   "execution_count": 35,
   "id": "4543b448",
   "metadata": {},
   "outputs": [
    {
     "name": "stdout",
     "output_type": "stream",
     "text": [
      "There are 59871 unique passengers in this dataset.\n"
     ]
    }
   ],
   "source": [
    "print ('There are',passengers_unique,'unique passengers in this dataset.')"
   ]
  },
  {
   "cell_type": "markdown",
   "id": "5fd7a604",
   "metadata": {},
   "source": [
    "## Question 2: What is the gender distribution of passengers? "
   ]
  },
  {
   "cell_type": "code",
   "execution_count": 37,
   "id": "ab84b90c",
   "metadata": {},
   "outputs": [],
   "source": [
    "#Create a new dataframe dropping all duplicate values for passenger_id. \n",
    "#This action leaves us with a dataset containing all the unique passengers in the original dataset. \n",
    "passengers_unique_df = data.drop_duplicates(subset = 'passenger_id')"
   ]
  },
  {
   "cell_type": "code",
   "execution_count": 11,
   "id": "f77385dd",
   "metadata": {},
   "outputs": [],
   "source": [
    "#Use value_counts to count the number of male and female passengers. \n",
    "passenger_gender_counts = passengers_unique_df['gender'].value_counts()"
   ]
  },
  {
   "cell_type": "code",
   "execution_count": 12,
   "id": "68cf7926",
   "metadata": {},
   "outputs": [],
   "source": [
    "#Calculate the percentage of male passengers using a mathematical operation. Round to 2 decimal places. \n",
    "male_percent = round((passenger_gender_counts['Male'] / (passenger_gender_counts['Male'] + passenger_gender_counts['Female']))*100,2)"
   ]
  },
  {
   "cell_type": "code",
   "execution_count": 39,
   "id": "d3adb68f",
   "metadata": {},
   "outputs": [],
   "source": [
    "#Calculate the percentage of female passengers by subtracting male_percent from 100. \n",
    "female_percent = 100 - male_percent"
   ]
  },
  {
   "cell_type": "code",
   "execution_count": 14,
   "id": "4579ee22",
   "metadata": {},
   "outputs": [
    {
     "name": "stdout",
     "output_type": "stream",
     "text": [
      "The gender distribution of passengers is 50.25% male and 49.75% female.\n"
     ]
    }
   ],
   "source": [
    "print('The gender distribution of passengers is', male_percent.astype(str)+'%', 'male and', \n",
    "      female_percent.astype(str)+'%', 'female.')"
   ]
  },
  {
   "cell_type": "markdown",
   "id": "8f7cb035",
   "metadata": {},
   "source": [
    "## Question 3: What is the average age of passengers? "
   ]
  },
  {
   "cell_type": "code",
   "execution_count": 41,
   "id": "33836de0",
   "metadata": {},
   "outputs": [],
   "source": [
    "#Take the mean age of passengers in the unique passengers dataframe. \n",
    "avg_age=round(passengers_unique_df.age.mean(),1)"
   ]
  },
  {
   "cell_type": "code",
   "execution_count": 42,
   "id": "bb75538f",
   "metadata": {},
   "outputs": [
    {
     "name": "stdout",
     "output_type": "stream",
     "text": [
      "The average age of all passengers is 45.6.\n"
     ]
    }
   ],
   "source": [
    "print('The average age of all passengers is', avg_age.astype(str)+'.')"
   ]
  },
  {
   "cell_type": "markdown",
   "id": "d30f30aa",
   "metadata": {},
   "source": [
    "## Question 4: What is the most popular nationality in the dataset? "
   ]
  },
  {
   "cell_type": "code",
   "execution_count": 43,
   "id": "6785f651",
   "metadata": {},
   "outputs": [
    {
     "data": {
      "text/plain": [
       "China    11026\n",
       "Name: nationality, dtype: int64"
      ]
     },
     "execution_count": 43,
     "metadata": {},
     "output_type": "execute_result"
    }
   ],
   "source": [
    "#Use value_counts and index for the first (most popular) value in the dataset. \n",
    "passengers_unique_df['nationality'].value_counts()[0:1]"
   ]
  },
  {
   "cell_type": "markdown",
   "id": "0415a79a",
   "metadata": {},
   "source": [
    "## Question 5: What is the age distribution by gender?  "
   ]
  },
  {
   "cell_type": "code",
   "execution_count": 20,
   "id": "8d5e8d0f",
   "metadata": {},
   "outputs": [],
   "source": [
    "#Filter the original dataset for males. \n",
    "males = data[data['gender'] == 'Male']"
   ]
  },
  {
   "cell_type": "code",
   "execution_count": 21,
   "id": "939a6a80",
   "metadata": {},
   "outputs": [],
   "source": [
    "#Drop duplicates, leaving unique passengers. \n",
    "males = males.drop_duplicates(subset = 'passenger_id')"
   ]
  },
  {
   "cell_type": "code",
   "execution_count": 44,
   "id": "8a5a01b0",
   "metadata": {},
   "outputs": [
    {
     "data": {
      "text/plain": [
       "<Axes: >"
      ]
     },
     "execution_count": 44,
     "metadata": {},
     "output_type": "execute_result"
    },
    {
     "data": {
      "image/png": "[encoded data removed]",
      "text/plain": [
       "<Figure size 640x480 with 1 Axes>"
      ]
     },
     "metadata": {},
     "output_type": "display_data"
    }
   ],
   "source": [
    "#Create a histogram. I chose a large bin number for visual clarity. \n",
    "males['age'].hist(bins = 40 )"
   ]
  },
  {
   "cell_type": "code",
   "execution_count": 45,
   "id": "a0b78824",
   "metadata": {},
   "outputs": [
    {
     "data": {
      "text/plain": [
       "<Axes: >"
      ]
     },
     "execution_count": 45,
     "metadata": {},
     "output_type": "execute_result"
    },
    {
     "data": {
      "image/png": "[encoded data removed]",
      "text/plain": [
       "<Figure size 640x480 with 1 Axes>"
      ]
     },
     "metadata": {},
     "output_type": "display_data"
    }
   ],
   "source": [
    "#Perform the exact same operations, for females. \n",
    "females = data[data['gender'] == 'Female']\n",
    "females = females.drop_duplicates(subset = 'passenger_id')\n",
    "females['age'].hist(bins = 40 )"
   ]
  },
  {
   "cell_type": "markdown",
   "id": "a18961c4",
   "metadata": {},
   "source": [
    "Since this dataset contains mock data, it appears males and females have similar age distributions, with high numbers of passengers at ages 10, 20, 30, 40, 50, 60, 70, 80, 90, and 100. "
   ]
  },
  {
   "cell_type": "markdown",
   "id": "b6eadb9c",
   "metadata": {},
   "source": [
    "## Relationships and Correlations\n",
    "\n",
    "### Departure Date and Flight Status"
   ]
  },
  {
   "cell_type": "code",
   "execution_count": 52,
   "id": "c0215fa5",
   "metadata": {
    "scrolled": true
   },
   "outputs": [
    {
     "data": {
      "image/png": "[encoded data removed]",
      "text/plain": [
       "<Figure size 640x480 with 1 Axes>"
      ]
     },
     "metadata": {},
     "output_type": "display_data"
    }
   ],
   "source": [
    "#Group the data by month and flight status. Then, create a stacked bar chart of the relationship. \n",
    "data.groupby(['month', 'flight_status']).size().unstack().plot(kind='bar',stacked=True)\n",
    "plt.xlabel('Month')\n",
    "plt.ylabel('Count')\n",
    "plt.title('Flight Status by Month')\n",
    "plt.show()"
   ]
  },
  {
   "cell_type": "markdown",
   "id": "65aab621",
   "metadata": {},
   "source": [
    "It appears that once again, the data is relatively uniform across each month. However, a few insights jump out from this chart: \n",
    "\n",
    "- February, April, June, September, November, and December see slightly less overall flight volume than other months. \n",
    "\n",
    "- January, May, and September appear to have slightly more delayed flights than other months. "
   ]
  },
  {
   "cell_type": "markdown",
   "id": "df1d7d71",
   "metadata": {},
   "source": [
    "Let's perform the same operation, this time analyzing flight status by the day of the week. "
   ]
  },
  {
   "cell_type": "code",
   "execution_count": 28,
   "id": "0a53cd00",
   "metadata": {},
   "outputs": [
    {
     "data": {
      "image/png": "[encoded data removed]",
      "text/plain": [
       "<Figure size 640x480 with 1 Axes>"
      ]
     },
     "metadata": {},
     "output_type": "display_data"
    }
   ],
   "source": [
    "data.groupby(['day_of_week', 'flight_status']).size().unstack().plot(kind='bar', stacked=True)\n",
    "plt.xlabel('Day of Week')\n",
    "plt.ylabel('Count')\n",
    "plt.title('Flight Status by Day of Week')\n",
    "plt.show()"
   ]
  },
  {
   "cell_type": "markdown",
   "id": "fa90bc24",
   "metadata": {},
   "source": [
    "Again, the data looks relatively uniform. A few insights: \n",
    "\n",
    "- Friday, Sunday, and Thursday have the highest number of flights. \n",
    "- Saturday appears to have a relatively high number of delayed flights despite being one of the least common days for flights. "
   ]
  },
  {
   "cell_type": "markdown",
   "id": "1fb0ceac",
   "metadata": {},
   "source": [
    "To analyze which days see the relative highest amounts of cancellations, let's create some code that analyzes each day of the week's cancellation ratio. "
   ]
  },
  {
   "cell_type": "code",
   "execution_count": 53,
   "id": "a4a0a791",
   "metadata": {},
   "outputs": [
    {
     "data": {
      "text/html": [
       "<div>\n",
       "<style scoped>\n",
       "    .dataframe tbody tr th:only-of-type {\n",
       "        vertical-align: middle;\n",
       "    }\n",
       "\n",
       "    .dataframe tbody tr th {\n",
       "        vertical-align: top;\n",
       "    }\n",
       "\n",
       "    .dataframe thead th {\n",
       "        text-align: right;\n",
       "    }\n",
       "</style>\n",
       "<table border=\"1\" class=\"dataframe\">\n",
       "  <thead>\n",
       "    <tr style=\"text-align: right;\">\n",
       "      <th></th>\n",
       "      <th>day_of_week</th>\n",
       "      <th>total_flights</th>\n",
       "      <th>cancelled_flights</th>\n",
       "      <th>cancelled_ratio</th>\n",
       "    </tr>\n",
       "  </thead>\n",
       "  <tbody>\n",
       "    <tr>\n",
       "      <th>0</th>\n",
       "      <td>Friday</td>\n",
       "      <td>14227</td>\n",
       "      <td>4831</td>\n",
       "      <td>0.339566</td>\n",
       "    </tr>\n",
       "    <tr>\n",
       "      <th>1</th>\n",
       "      <td>Monday</td>\n",
       "      <td>14032</td>\n",
       "      <td>4751</td>\n",
       "      <td>0.338583</td>\n",
       "    </tr>\n",
       "    <tr>\n",
       "      <th>4</th>\n",
       "      <td>Thursday</td>\n",
       "      <td>14227</td>\n",
       "      <td>4757</td>\n",
       "      <td>0.334364</td>\n",
       "    </tr>\n",
       "    <tr>\n",
       "      <th>6</th>\n",
       "      <td>Wednesday</td>\n",
       "      <td>13939</td>\n",
       "      <td>4653</td>\n",
       "      <td>0.333812</td>\n",
       "    </tr>\n",
       "    <tr>\n",
       "      <th>3</th>\n",
       "      <td>Sunday</td>\n",
       "      <td>14289</td>\n",
       "      <td>4736</td>\n",
       "      <td>0.331444</td>\n",
       "    </tr>\n",
       "    <tr>\n",
       "      <th>5</th>\n",
       "      <td>Tuesday</td>\n",
       "      <td>14048</td>\n",
       "      <td>4645</td>\n",
       "      <td>0.330652</td>\n",
       "    </tr>\n",
       "    <tr>\n",
       "      <th>2</th>\n",
       "      <td>Saturday</td>\n",
       "      <td>13857</td>\n",
       "      <td>4569</td>\n",
       "      <td>0.329725</td>\n",
       "    </tr>\n",
       "  </tbody>\n",
       "</table>\n",
       "</div>"
      ],
      "text/plain": [
       "  day_of_week  total_flights  cancelled_flights  cancelled_ratio\n",
       "0      Friday          14227               4831         0.339566\n",
       "1      Monday          14032               4751         0.338583\n",
       "4    Thursday          14227               4757         0.334364\n",
       "6   Wednesday          13939               4653         0.333812\n",
       "3      Sunday          14289               4736         0.331444\n",
       "5     Tuesday          14048               4645         0.330652\n",
       "2    Saturday          13857               4569         0.329725"
      ]
     },
     "execution_count": 53,
     "metadata": {},
     "output_type": "execute_result"
    }
   ],
   "source": [
    "#Group the dataset by day of week.\n",
    "total_flights = data.groupby('day_of_week').size().reset_index(name='total_flights')\n",
    "\n",
    "#Now, create a filtered dataset including all flights that were cancelled, again grouping by day of week. \n",
    "cancelled_flights = data[data['flight_status'] == 'Cancelled'].groupby('day_of_week').size().reset_index(name='cancelled_flights')\n",
    "\n",
    "#Merge the two datasets together, joining them on the common column 'day_of_week.'\n",
    "merged_data = total_flights.merge(cancelled_flights, on='day_of_week')\n",
    "\n",
    "#Create a new column in the merged dataset calculating the cancelation ratio for each day of the week.\n",
    "merged_data['cancelled_ratio'] = merged_data['cancelled_flights'] / merged_data['total_flights']\n",
    "merged_data.sort_values(by='cancelled_ratio', ascending = False)"
   ]
  },
  {
   "cell_type": "markdown",
   "id": "56645b51",
   "metadata": {},
   "source": [
    "Looking at these results, it is interesting that Friday has a higher cancellation ratio than Thursday, despite the two days having the exact same number of flights. Also, Wednesday and Saturday are the two least popular days for flying; however, Wednesday has the 4th lowest cancellation ratio, and Saturday has the lowest. "
   ]
  },
  {
   "cell_type": "markdown",
   "id": "46d078f7",
   "metadata": {},
   "source": [
    "### Age and Nationality"
   ]
  },
  {
   "cell_type": "code",
   "execution_count": 56,
   "id": "702f98b6",
   "metadata": {},
   "outputs": [],
   "source": [
    "#Drop duplicates and create a new dataframe containing mean age grouped by nationality. \n",
    "no_dupes = data.drop_duplicates(subset='passenger_id')\n",
    "age_nat = no_dupes[['age','nationality']]\n",
    "age_nat = age_nat.groupby('nationality').mean('age').sort_values(by = 'age')"
   ]
  },
  {
   "cell_type": "code",
   "execution_count": 57,
   "id": "377ac15e",
   "metadata": {},
   "outputs": [],
   "source": [
    "#Create a new dataframe containing the counts of each type of nationality. \n",
    "total_nat = no_dupes.groupby('nationality').size().reset_index(name='count')"
   ]
  },
  {
   "cell_type": "code",
   "execution_count": 58,
   "id": "726a3388",
   "metadata": {},
   "outputs": [],
   "source": [
    "#Merge the two dataframes and sort by the most popular nationalities. \n",
    "merged_nat = age_nat.merge(total_nat, on = 'nationality')\n",
    "merged_nat = merged_nat.sort_values(by='count')"
   ]
  },
  {
   "cell_type": "code",
   "execution_count": 59,
   "id": "902b4ab4",
   "metadata": {},
   "outputs": [],
   "source": [
    "#To enhance the context of our analysis, let's filter down to only nationalities with over 100 flights. \n",
    "biggest_nationalities = merged_nat[merged_nat['count'] >= 100]"
   ]
  },
  {
   "cell_type": "code",
   "execution_count": 62,
   "id": "da733399",
   "metadata": {},
   "outputs": [
    {
     "data": {
      "text/html": [
       "<div>\n",
       "<style scoped>\n",
       "    .dataframe tbody tr th:only-of-type {\n",
       "        vertical-align: middle;\n",
       "    }\n",
       "\n",
       "    .dataframe tbody tr th {\n",
       "        vertical-align: top;\n",
       "    }\n",
       "\n",
       "    .dataframe thead th {\n",
       "        text-align: right;\n",
       "    }\n",
       "</style>\n",
       "<table border=\"1\" class=\"dataframe\">\n",
       "  <thead>\n",
       "    <tr style=\"text-align: right;\">\n",
       "      <th></th>\n",
       "      <th>nationality</th>\n",
       "      <th>age</th>\n",
       "      <th>count</th>\n",
       "    </tr>\n",
       "  </thead>\n",
       "  <tbody>\n",
       "    <tr>\n",
       "      <th>162</th>\n",
       "      <td>Lithuania</td>\n",
       "      <td>47.470000</td>\n",
       "      <td>100</td>\n",
       "    </tr>\n",
       "    <tr>\n",
       "      <th>47</th>\n",
       "      <td>Israel</td>\n",
       "      <td>42.616822</td>\n",
       "      <td>107</td>\n",
       "    </tr>\n",
       "    <tr>\n",
       "      <th>170</th>\n",
       "      <td>North Korea</td>\n",
       "      <td>47.908257</td>\n",
       "      <td>109</td>\n",
       "    </tr>\n",
       "    <tr>\n",
       "      <th>145</th>\n",
       "      <td>Kenya</td>\n",
       "      <td>46.657658</td>\n",
       "      <td>111</td>\n",
       "    </tr>\n",
       "    <tr>\n",
       "      <th>121</th>\n",
       "      <td>New Zealand</td>\n",
       "      <td>45.982143</td>\n",
       "      <td>112</td>\n",
       "    </tr>\n",
       "    <tr>\n",
       "      <th>...</th>\n",
       "      <td>...</td>\n",
       "      <td>...</td>\n",
       "      <td>...</td>\n",
       "    </tr>\n",
       "    <tr>\n",
       "      <th>113</th>\n",
       "      <td>Brazil</td>\n",
       "      <td>45.525512</td>\n",
       "      <td>2293</td>\n",
       "    </tr>\n",
       "    <tr>\n",
       "      <th>118</th>\n",
       "      <td>Philippines</td>\n",
       "      <td>45.851643</td>\n",
       "      <td>3195</td>\n",
       "    </tr>\n",
       "    <tr>\n",
       "      <th>94</th>\n",
       "      <td>Russia</td>\n",
       "      <td>45.025215</td>\n",
       "      <td>3490</td>\n",
       "    </tr>\n",
       "    <tr>\n",
       "      <th>112</th>\n",
       "      <td>Indonesia</td>\n",
       "      <td>45.519121</td>\n",
       "      <td>6459</td>\n",
       "    </tr>\n",
       "    <tr>\n",
       "      <th>105</th>\n",
       "      <td>China</td>\n",
       "      <td>45.343461</td>\n",
       "      <td>11026</td>\n",
       "    </tr>\n",
       "  </tbody>\n",
       "</table>\n",
       "<p>77 rows × 3 columns</p>\n",
       "</div>"
      ],
      "text/plain": [
       "     nationality        age  count\n",
       "162    Lithuania  47.470000    100\n",
       "47        Israel  42.616822    107\n",
       "170  North Korea  47.908257    109\n",
       "145        Kenya  46.657658    111\n",
       "121  New Zealand  45.982143    112\n",
       "..           ...        ...    ...\n",
       "113       Brazil  45.525512   2293\n",
       "118  Philippines  45.851643   3195\n",
       "94        Russia  45.025215   3490\n",
       "112    Indonesia  45.519121   6459\n",
       "105        China  45.343461  11026\n",
       "\n",
       "[77 rows x 3 columns]"
      ]
     },
     "execution_count": 62,
     "metadata": {},
     "output_type": "execute_result"
    }
   ],
   "source": [
    "biggest_nationalities"
   ]
  },
  {
   "cell_type": "markdown",
   "id": "5febcd64",
   "metadata": {},
   "source": [
    "Like previously, the data seems relatively standard across nationalities. However, it is worth noting that mean age tends to converge toward 45 as the sample size increases. At lower counts, several countries have mean ages lower or higher than 45. "
   ]
  }
 ],
 "metadata": {
  "kernelspec": {
   "display_name": "Python 3 (ipykernel)",
   "language": "python",
   "name": "python3"
  },
  "language_info": {
   "codemirror_mode": {
    "name": "ipython",
    "version": 3
   },
   "file_extension": ".py",
   "mimetype": "text/x-python",
   "name": "python",
   "nbconvert_exporter": "python",
   "pygments_lexer": "ipython3",
   "version": "3.10.9"
  }
 },
 "nbformat": 4,
 "nbformat_minor": 5
}
